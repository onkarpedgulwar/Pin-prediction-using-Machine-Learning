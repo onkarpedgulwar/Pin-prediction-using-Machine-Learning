{
 "cells": [
  {
   "cell_type": "code",
   "execution_count": 13,
   "metadata": {},
   "outputs": [],
   "source": [
    "import numpy as np\n",
    "import pandas as pd\n",
    "import glob, os\n",
    "os.chdir(\"C:/Users/akshaychoulwar/Desktop/documents/Think-master/usr_3\")\n",
    "files=[]\n",
    "for file in glob.glob(\"*.csv\"):\n",
    "    files.append(file)"
   ]
  },
  {
   "cell_type": "code",
   "execution_count": 2,
   "metadata": {},
   "outputs": [],
   "source": [
    "    files.sort()\n",
    "    files = [files[n:n+5] for n in range(0, len(files), 5)]\n",
    "    #files grouped'1587-time.csv','1587_acc.csv','1587_gyro.csv','1587_pres.csv','1587_rot.csv'\n",
    "    #print (files)"
   ]
  },
  {
   "cell_type": "code",
   "execution_count": 3,
   "metadata": {},
   "outputs": [],
   "source": [
    "df=pd.DataFrame(columns=['x-acc','y-acc','z-acc','x-gyro','y-gyro','z-gyro','x-rot','y-rot','z-rot','y'])\n",
    "for fi in files:\n",
    "    data_time=pd.read_csv(\"C:/Users/akshaychoulwar/Desktop/documents/Think-master/usr_3/\"+fi[0])\n",
    "    data_acc=pd.read_csv(\"C:/Users/akshaychoulwar/Desktop/documents/Think-master/usr_3/\"+fi[1])\n",
    "    data_gyro=pd.read_csv(\"C:/Users/akshaychoulwar/Desktop/documents/Think-master/usr_3/\"+fi[2])\n",
    "    data_rot=pd.read_csv(\"C:/Users/akshaychoulwar/Desktop/documents/Think-master/usr_3/\"+fi[4])\n",
    "    for x in data_time['time']:\n",
    "        #finding first 3 closest timestamp row for each sensor\n",
    "        l=(data_acc['time-acc']-x).abs().argsort()[:3]\n",
    "        m=(data_gyro['time-gyro']-x).abs().argsort()[:3]\n",
    "        n=(data_rot['rot-time']-x).abs().argsort()[:3]\n",
    "        #aggregating these rows\n",
    "        z=data_acc.iloc[l].agg('mean').to_frame().T\n",
    "        a=data_gyro.iloc[m].agg('mean').to_frame().T\n",
    "        b=data_rot.iloc[n].agg('mean').to_frame().T\n",
    "        #combining them\n",
    "        dk=pd.concat([z,a,b],axis=1,join='inner')\n",
    "        s=data_time[data_time['time']==x].index.item()\n",
    "        dk['y']=data_time.iloc[s]['digit']\n",
    "        df=pd.concat([df,dk],ignore_index=True)\n",
    "\n",
    "del df['time-acc']\n",
    "del df['time-gyro']\n",
    "del df['rot-time']\n",
    "df=df[['x-acc','y-acc','z-acc','x-gyro','y-gyro','z-gyro','x-rot','y-rot','z-rot','y']]\n",
    "#writing data to csv\n",
    "df.to_csv('C:/Users/akshaychoulwar/Desktop/documents/Think-master/car6.csv', index=False)\n"
   ]
  },
  {
   "cell_type": "code",
   "execution_count": 19,
   "metadata": {
    "scrolled": false
   },
   "outputs": [
    {
     "name": "stdout",
     "output_type": "stream",
     "text": [
      "\n"
     ]
    }
   ],
   "source": [
    "#another sampling technique\n",
    "#noaggregation is used\n",
    "z=1\n",
    "for fi in files:\n",
    "    data_time=pd.read_csv(\"C:/Users/akshaychoulwar/Desktop/documents/Think-master/usr_2/\"+fi[0])\n",
    "    data_acc=pd.read_csv(\"C:/Users/akshaychoulwar/Desktop/documents/Think-master/usr_2/\"+fi[1])\n",
    "    data_gyro=pd.read_csv(\"C:/Users/akshaychoulwar/Desktop/documents/Think-master/usr_2/\"+fi[2])\n",
    "    #data_pres=pd.read_csv(\"/home/oslab/Think-master/data/\"+str(fi[3]))\n",
    "    data_rot=pd.read_csv(\"C:/Users/akshaychoulwar/Desktop/documents/Think-master/usr_2/\"+fi[4])\n",
    "    \n",
    "    xyz=[]\n",
    "    pqr=[]\n",
    "    tuv=[]\n",
    "    for x in data_time['time']:\n",
    "        xyz.append((data_acc['time-acc']-x).abs().argsort()[1])\n",
    "        pqr.append((data_gyro['time-gyro']-x).abs().argsort()[1])\n",
    "        tuv.append((data_rot['rot-time']-x).abs().argsort()[1])\n",
    "    df=pd.concat([data_acc.iloc[xyz].reset_index(drop=True),data_gyro.iloc[pqr].reset_index(drop=True),data_rot.iloc[tuv].reset_index(drop=True)],axis=1)\n",
    "    print(xyz)\n",
    "    del df['time-acc']\n",
    "    del df['time-gyro']\n",
    "    del df['rot-time']\n",
    "    df.reset_index(drop=True)\n",
    "    df['y']=data_time['digit']\n",
    "    if z==1:\n",
    "        df.to_csv('C:/Users/akshaychoulwar/Desktop/documents/Think-master/car3.csv', index=False)\n",
    "        z=0\n",
    "    else:\n",
    "        df.to_csv('C:/Users/akshaychoulwar/Desktop/documents/Think-master/car3.csv', mode='a', header=False, index=False)\n"
   ]
  },
  {
   "cell_type": "code",
   "execution_count": 16,
   "metadata": {},
   "outputs": [],
   "source": [
    "#info of data\n",
    "kb=pd.read_csv('C:/Users/akshaychoulwar/Desktop/documents/Think-master/car3.csv').groupby('y').describe()\n",
    "kb.to_csv('C:/Users/akshaychoulwar/Desktop/documents/Think-master/info.csv', index=False)"
   ]
  }
 ],
 "metadata": {
  "anaconda-cloud": {},
  "kernelspec": {
   "display_name": "Python 3",
   "language": "python",
   "name": "python3"
  },
  "language_info": {
   "codemirror_mode": {
    "name": "ipython",
    "version": 3
   },
   "file_extension": ".py",
   "mimetype": "text/x-python",
   "name": "python",
   "nbconvert_exporter": "python",
   "pygments_lexer": "ipython3",
   "version": "3.6.4"
  }
 },
 "nbformat": 4,
 "nbformat_minor": 1
}
